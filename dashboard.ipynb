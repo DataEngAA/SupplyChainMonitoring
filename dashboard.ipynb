{
 "cells": [
  {
   "cell_type": "code",
   "execution_count": 2,
   "id": "bbefd31f-73a4-415f-b56d-930e0c719ce1",
   "metadata": {},
   "outputs": [
    {
     "ename": "ObsoleteAttributeException",
     "evalue": "app.run_server has been replaced by app.run",
     "output_type": "error",
     "traceback": [
      "\u001b[1;31m---------------------------------------------------------------------------\u001b[0m",
      "\u001b[1;31mObsoleteAttributeException\u001b[0m                Traceback (most recent call last)",
      "Cell \u001b[1;32mIn[2], line 64\u001b[0m\n\u001b[0;32m     24\u001b[0m app\u001b[38;5;241m.\u001b[39mlayout \u001b[38;5;241m=\u001b[39m html\u001b[38;5;241m.\u001b[39mDiv([\n\u001b[0;32m     25\u001b[0m     html\u001b[38;5;241m.\u001b[39mH1(\u001b[38;5;124m\"\u001b[39m\u001b[38;5;124mShipment Performance Dashboard\u001b[39m\u001b[38;5;124m\"\u001b[39m, style\u001b[38;5;241m=\u001b[39m{\u001b[38;5;124m'\u001b[39m\u001b[38;5;124mtextAlign\u001b[39m\u001b[38;5;124m'\u001b[39m: \u001b[38;5;124m'\u001b[39m\u001b[38;5;124mcenter\u001b[39m\u001b[38;5;124m'\u001b[39m}),\n\u001b[0;32m     26\u001b[0m     \n\u001b[1;32m   (...)\u001b[0m\n\u001b[0;32m     60\u001b[0m     )\n\u001b[0;32m     61\u001b[0m ])\n\u001b[0;32m     63\u001b[0m \u001b[38;5;28;01mif\u001b[39;00m \u001b[38;5;18m__name__\u001b[39m \u001b[38;5;241m==\u001b[39m \u001b[38;5;124m'\u001b[39m\u001b[38;5;124m__main__\u001b[39m\u001b[38;5;124m'\u001b[39m:\n\u001b[1;32m---> 64\u001b[0m     \u001b[43mapp\u001b[49m\u001b[38;5;241;43m.\u001b[39;49m\u001b[43mrun_server\u001b[49m(debug\u001b[38;5;241m=\u001b[39m\u001b[38;5;28;01mTrue\u001b[39;00m)\n",
      "File \u001b[1;32m~\\AppData\\Local\\Programs\\Python\\Python312\\Lib\\site-packages\\dash\\_obsolete.py:22\u001b[0m, in \u001b[0;36mObsoleteChecker.__getattr__\u001b[1;34m(self, name)\u001b[0m\n\u001b[0;32m     20\u001b[0m \u001b[38;5;28;01mif\u001b[39;00m name \u001b[38;5;129;01min\u001b[39;00m \u001b[38;5;28mself\u001b[39m\u001b[38;5;241m.\u001b[39m_obsolete_attributes:\n\u001b[0;32m     21\u001b[0m     err \u001b[38;5;241m=\u001b[39m \u001b[38;5;28mself\u001b[39m\u001b[38;5;241m.\u001b[39m_obsolete_attributes[name]\n\u001b[1;32m---> 22\u001b[0m     \u001b[38;5;28;01mraise\u001b[39;00m err\u001b[38;5;241m.\u001b[39mexc(err\u001b[38;5;241m.\u001b[39mmessage)\n\u001b[0;32m     23\u001b[0m \u001b[38;5;28;01mreturn\u001b[39;00m \u001b[38;5;28mgetattr\u001b[39m(\u001b[38;5;28mself\u001b[39m\u001b[38;5;241m.\u001b[39m\u001b[38;5;18m__dict__\u001b[39m, name)\n",
      "\u001b[1;31mObsoleteAttributeException\u001b[0m: app.run_server has been replaced by app.run"
     ]
    }
   ],
   "source": [
    "import pandas as pd\n",
    "import dash\n",
    "from dash import dcc, html\n",
    "import plotly.express as px\n",
    "\n",
    "# Load the processed data\n",
    "merged_df = pd.read_csv('data/processed/merged_shipments.csv')\n",
    "\n",
    "# Calculate summary metrics\n",
    "total_shipments = len(merged_df)\n",
    "on_time = len(merged_df[merged_df['status'] == 'on-time'])\n",
    "delayed = len(merged_df[merged_df['status'] == 'delayed'])\n",
    "on_time_rate = round((on_time / total_shipments) * 100, 2)\n",
    "\n",
    "# Group by vendor\n",
    "vendor_perf = merged_df.groupby('name')['status'].value_counts(normalize=True).unstack().fillna(0)\n",
    "vendor_perf['on_time_rate'] = vendor_perf.get('on-time', 0)\n",
    "\n",
    "# Initialize Dash app\n",
    "app = dash.Dash(__name__)\n",
    "app.title = \"Supply Chain Monitoring Dashboard\"\n",
    "\n",
    "# Layout\n",
    "app.layout = html.Div([\n",
    "    html.H1(\"Shipment Performance Dashboard\", style={'textAlign': 'center'}),\n",
    "    \n",
    "    html.Div([\n",
    "        html.Div([\n",
    "            html.H3(\"Total Shipments\"),\n",
    "            html.P(f\"{total_shipments}\")\n",
    "        ], className=\"metric\"),\n",
    "\n",
    "        html.Div([\n",
    "            html.H3(\"On-Time Shipments\"),\n",
    "            html.P(f\"{on_time}\")\n",
    "        ], className=\"metric\"),\n",
    "\n",
    "        html.Div([\n",
    "            html.H3(\"Delayed Shipments\"),\n",
    "            html.P(f\"{delayed}\")\n",
    "        ], className=\"metric\"),\n",
    "\n",
    "        html.Div([\n",
    "            html.H3(\"On-Time Rate\"),\n",
    "            html.P(f\"{on_time_rate}%\")\n",
    "        ], className=\"metric\"),\n",
    "    ], style={'display': 'flex', 'justifyContent': 'space-around'}),\n",
    "\n",
    "    html.Br(),\n",
    "\n",
    "    dcc.Graph(\n",
    "        figure=px.bar(\n",
    "            vendor_perf,\n",
    "            x=vendor_perf.index,\n",
    "            y='on_time_rate',\n",
    "            title='On-Time Rate by Vendor',\n",
    "            labels={'on_time_rate': 'On-Time Rate', 'name': 'Vendor'},\n",
    "            text_auto='.2f'\n",
    "        )\n",
    "    )\n",
    "])\n",
    "\n",
    "if __name__ == '__main__':\n",
    "    app.run_server(debug=True)\n"
   ]
  },
  {
   "cell_type": "code",
   "execution_count": null,
   "id": "05838438-0d4a-4da5-b0e7-02891ef6715f",
   "metadata": {},
   "outputs": [],
   "source": []
  }
 ],
 "metadata": {
  "kernelspec": {
   "display_name": "Python 3 (ipykernel)",
   "language": "python",
   "name": "python3"
  },
  "language_info": {
   "codemirror_mode": {
    "name": "ipython",
    "version": 3
   },
   "file_extension": ".py",
   "mimetype": "text/x-python",
   "name": "python",
   "nbconvert_exporter": "python",
   "pygments_lexer": "ipython3",
   "version": "3.12.4"
  }
 },
 "nbformat": 4,
 "nbformat_minor": 5
}
