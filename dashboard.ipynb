{
 "cells": [
  {
   "cell_type": "code",
   "execution_count": 4,
   "id": "bbefd31f-73a4-415f-b56d-930e0c719ce1",
   "metadata": {},
   "outputs": [
    {
     "data": {
      "text/html": [
       "\n",
       "        <iframe\n",
       "            width=\"100%\"\n",
       "            height=\"650\"\n",
       "            src=\"http://127.0.0.1:8050/\"\n",
       "            frameborder=\"0\"\n",
       "            allowfullscreen\n",
       "            \n",
       "        ></iframe>\n",
       "        "
      ],
      "text/plain": [
       "<IPython.lib.display.IFrame at 0x1ba1e0dd0d0>"
      ]
     },
     "metadata": {},
     "output_type": "display_data"
    }
   ],
   "source": [
    "import pandas as pd\n",
    "import dash\n",
    "from dash import dcc, html\n",
    "import plotly.express as px\n",
    "\n",
    "# Load the processed data\n",
    "merged_df = pd.read_csv('data/processed/merged_shipments.csv')\n",
    "\n",
    "# Calculate summary metrics\n",
    "total_shipments = len(merged_df)\n",
    "on_time = len(merged_df[merged_df['status'] == 'on-time'])\n",
    "delayed = len(merged_df[merged_df['status'] == 'delayed'])\n",
    "on_time_rate = round((on_time / total_shipments) * 100, 2)\n",
    "\n",
    "# Group by vendor\n",
    "vendor_perf = merged_df.groupby('name')['status'].value_counts(normalize=True).unstack().fillna(0)\n",
    "vendor_perf['on_time_rate'] = vendor_perf.get('on-time', 0)\n",
    "\n",
    "# Initialize Dash app\n",
    "app = dash.Dash(__name__)\n",
    "app.title = \"Supply Chain Monitoring Dashboard\"\n",
    "\n",
    "# Layout\n",
    "app.layout = html.Div([\n",
    "    html.H1(\"Shipment Performance Dashboard\", style={'textAlign': 'center'}),\n",
    "    \n",
    "    html.Div([\n",
    "        html.Div([\n",
    "            html.H3(\"Total Shipments\"),\n",
    "            html.P(f\"{total_shipments}\")\n",
    "        ], className=\"metric\"),\n",
    "\n",
    "        html.Div([\n",
    "            html.H3(\"On-Time Shipments\"),\n",
    "            html.P(f\"{on_time}\")\n",
    "        ], className=\"metric\"),\n",
    "\n",
    "        html.Div([\n",
    "            html.H3(\"Delayed Shipments\"),\n",
    "            html.P(f\"{delayed}\")\n",
    "        ], className=\"metric\"),\n",
    "\n",
    "        html.Div([\n",
    "            html.H3(\"On-Time Rate\"),\n",
    "            html.P(f\"{on_time_rate}%\")\n",
    "        ], className=\"metric\"),\n",
    "    ], style={'display': 'flex', 'justifyContent': 'space-around'}),\n",
    "\n",
    "    html.Br(),\n",
    "\n",
    "    dcc.Graph(\n",
    "        figure=px.bar(\n",
    "            vendor_perf,\n",
    "            x=vendor_perf.index,\n",
    "            y='on_time_rate',\n",
    "            title='On-Time Rate by Vendor',\n",
    "            labels={'on_time_rate': 'On-Time Rate', 'name': 'Vendor'},\n",
    "            text_auto='.2f'\n",
    "        )\n",
    "    )\n",
    "])\n",
    "\n",
    "if __name__ == '__main__':\n",
    "    app.run(debug=True)\n"
   ]
  },
  {
   "cell_type": "code",
   "execution_count": null,
   "id": "05838438-0d4a-4da5-b0e7-02891ef6715f",
   "metadata": {},
   "outputs": [],
   "source": []
  }
 ],
 "metadata": {
  "kernelspec": {
   "display_name": "Python 3 (ipykernel)",
   "language": "python",
   "name": "python3"
  },
  "language_info": {
   "codemirror_mode": {
    "name": "ipython",
    "version": 3
   },
   "file_extension": ".py",
   "mimetype": "text/x-python",
   "name": "python",
   "nbconvert_exporter": "python",
   "pygments_lexer": "ipython3",
   "version": "3.12.4"
  }
 },
 "nbformat": 4,
 "nbformat_minor": 5
}
