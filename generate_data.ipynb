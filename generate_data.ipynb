{
 "cells": [
  {
   "cell_type": "code",
   "execution_count": 1,
   "id": "4d03d50f-6d65-41d3-b0e7-4fd85507cc15",
   "metadata": {},
   "outputs": [
    {
     "name": "stdout",
     "output_type": "stream",
     "text": [
      "Fake supply chain data generated.\n"
     ]
    }
   ],
   "source": [
    "from faker import Faker\n",
    "import json\n",
    "from random import randint, choice\n",
    "from datetime import datetime\n",
    "import os\n",
    "\n",
    "faker = Faker()\n",
    "Faker.seed(42)\n",
    "\n",
    "def generate_shipments(n=100):\n",
    "    shipments = []\n",
    "    for _ in range(n):\n",
    "        shipments.append({\n",
    "            \"shipment_id\": faker.uuid4(),\n",
    "            \"vendor_id\": f\"VENDOR_{randint(1, 10)}\",\n",
    "            \"product_id\": f\"PRODUCT_{randint(1000, 1010)}\",\n",
    "            \"quantity\": randint(1, 100),\n",
    "            \"shipment_date\": faker.date_between(start_date=\"-30d\", end_date=\"today\").isoformat(),\n",
    "            \"status\": choice([\"on-time\", \"delayed\"]),\n",
    "        })\n",
    "    return shipments\n",
    "\n",
    "def generate_vendors(n=10):\n",
    "    vendors = []\n",
    "    for i in range(n):\n",
    "        vendors.append({\n",
    "            \"vendor_id\": f\"VENDOR_{i+1}\",\n",
    "            \"name\": faker.company(),\n",
    "            \"location\": faker.city(),\n",
    "            \"rating\": round(randint(30, 100) / 10, 1),\n",
    "            \"contact_email\": faker.email(),\n",
    "        })\n",
    "    return vendors\n",
    "\n",
    "def save_json(data, filename):\n",
    "    os.makedirs(\"data/raw\", exist_ok=True)\n",
    "    with open(f\"data/raw/{filename}\", \"w\") as f:\n",
    "        json.dump(data, f, indent=4)\n",
    "\n",
    "if __name__ == \"__main__\":\n",
    "    date_str = datetime.today().strftime('%Y_%m_%d')\n",
    "    save_json(generate_shipments(100), f\"shipments_{date_str}.json\")\n",
    "    save_json(generate_vendors(10), f\"vendors_{date_str}.json\")\n",
    "    print(\"Fake supply chain data generated.\")\n"
   ]
  },
  {
   "cell_type": "code",
   "execution_count": null,
   "id": "98c6dd4c-d78e-4798-8989-d1a6ffdc79bf",
   "metadata": {},
   "outputs": [],
   "source": []
  }
 ],
 "metadata": {
  "kernelspec": {
   "display_name": "Python 3 (ipykernel)",
   "language": "python",
   "name": "python3"
  },
  "language_info": {
   "codemirror_mode": {
    "name": "ipython",
    "version": 3
   },
   "file_extension": ".py",
   "mimetype": "text/x-python",
   "name": "python",
   "nbconvert_exporter": "python",
   "pygments_lexer": "ipython3",
   "version": "3.12.4"
  }
 },
 "nbformat": 4,
 "nbformat_minor": 5
}
